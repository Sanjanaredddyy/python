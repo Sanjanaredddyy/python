{
 "cells": [
  {
   "cell_type": "code",
   "execution_count": 1,
   "id": "72996046-770d-4283-9600-d275fc16441e",
   "metadata": {},
   "outputs": [
    {
     "data": {
      "text/plain": [
       "{20, 34, 50, 54, 67, 80}"
      ]
     },
     "execution_count": 1,
     "metadata": {},
     "output_type": "execute_result"
    }
   ],
   "source": [
    "s={20,50,67,80,34,54}\n",
    "s"
   ]
  },
  {
   "cell_type": "code",
   "execution_count": 3,
   "id": "e9231a13-b4b3-4afd-99cb-3f5901982e6f",
   "metadata": {},
   "outputs": [
    {
     "data": {
      "text/plain": [
       "set"
      ]
     },
     "execution_count": 3,
     "metadata": {},
     "output_type": "execute_result"
    }
   ],
   "source": [
    "type(s)"
   ]
  },
  {
   "cell_type": "code",
   "execution_count": 7,
   "id": "45d96e4b-3ae9-48ec-99c4-a9770ca971f9",
   "metadata": {},
   "outputs": [
    {
     "data": {
      "text/plain": [
       "{20, 34, 50, 54, 67, 80, 89}"
      ]
     },
     "execution_count": 7,
     "metadata": {},
     "output_type": "execute_result"
    }
   ],
   "source": [
    "s.add(89)\n",
    "s"
   ]
  },
  {
   "cell_type": "code",
   "execution_count": 15,
   "id": "c0f7e747-5555-4df4-bbbd-35b6be0f3e23",
   "metadata": {},
   "outputs": [
    {
     "data": {
      "text/plain": [
       "{20, 34, 67, 80, 89}"
      ]
     },
     "execution_count": 15,
     "metadata": {},
     "output_type": "execute_result"
    }
   ],
   "source": [
    "s.remove(50)\n",
    "s"
   ]
  },
  {
   "cell_type": "code",
   "execution_count": 21,
   "id": "fb562898-ac41-4001-950d-2b3955d01a32",
   "metadata": {},
   "outputs": [
    {
     "data": {
      "text/plain": [
       "{3, 8, 12, 42, 58, 90}"
      ]
     },
     "execution_count": 21,
     "metadata": {},
     "output_type": "execute_result"
    }
   ],
   "source": [
    "x={42,58,90,12,3,8}\n",
    "x"
   ]
  },
  {
   "cell_type": "code",
   "execution_count": 25,
   "id": "9c7a529d-9024-419c-bee4-60d622ec15d9",
   "metadata": {},
   "outputs": [
    {
     "data": {
      "text/plain": [
       "{20, 34, 67, 80, 89}"
      ]
     },
     "execution_count": 25,
     "metadata": {},
     "output_type": "execute_result"
    }
   ],
   "source": [
    "s.difference(x)"
   ]
  },
  {
   "cell_type": "code",
   "execution_count": 27,
   "id": "13daae1b-44e5-4d08-bb42-2bd06db10f83",
   "metadata": {},
   "outputs": [
    {
     "data": {
      "text/plain": [
       "{3, 8, 12, 42, 58, 90}"
      ]
     },
     "execution_count": 27,
     "metadata": {},
     "output_type": "execute_result"
    }
   ],
   "source": [
    "x.difference(s)"
   ]
  },
  {
   "cell_type": "code",
   "execution_count": 29,
   "id": "7838f533-3190-478e-9b09-ee2e43853609",
   "metadata": {},
   "outputs": [
    {
     "data": {
      "text/plain": [
       "set()"
      ]
     },
     "execution_count": 29,
     "metadata": {},
     "output_type": "execute_result"
    }
   ],
   "source": [
    "x.intersection(s)"
   ]
  },
  {
   "cell_type": "code",
   "execution_count": 31,
   "id": "8f9770d6-617a-4fc3-aea7-e58848282feb",
   "metadata": {},
   "outputs": [
    {
     "data": {
      "text/plain": [
       "{3, 8, 12, 20, 34, 42, 58, 67, 80, 89, 90}"
      ]
     },
     "execution_count": 31,
     "metadata": {},
     "output_type": "execute_result"
    }
   ],
   "source": [
    "x.symmetric_difference(s)"
   ]
  },
  {
   "cell_type": "code",
   "execution_count": 33,
   "id": "7480e8da-6922-4901-93ff-f467972a7400",
   "metadata": {},
   "outputs": [
    {
     "data": {
      "text/plain": [
       "{3, 8, 12, 20, 34, 42, 58, 67, 80, 89, 90}"
      ]
     },
     "execution_count": 33,
     "metadata": {},
     "output_type": "execute_result"
    }
   ],
   "source": [
    "s.symmetric_difference(x)"
   ]
  },
  {
   "cell_type": "code",
   "execution_count": 35,
   "id": "10a3f34e-b9f2-4c8d-950a-231c4dd907dd",
   "metadata": {},
   "outputs": [
    {
     "data": {
      "text/plain": [
       "{3, 8, 12, 20, 34, 42, 58, 67, 80, 89, 90}"
      ]
     },
     "execution_count": 35,
     "metadata": {},
     "output_type": "execute_result"
    }
   ],
   "source": [
    "s.union(x)"
   ]
  },
  {
   "cell_type": "code",
   "execution_count": 37,
   "id": "1f9689f7-ca81-4a35-831c-755a0aa1d83f",
   "metadata": {},
   "outputs": [
    {
     "data": {
      "text/plain": [
       "{3, 8, 12, 20, 34, 42, 58, 67, 80, 89, 90}"
      ]
     },
     "execution_count": 37,
     "metadata": {},
     "output_type": "execute_result"
    }
   ],
   "source": [
    "x.union(s)"
   ]
  },
  {
   "cell_type": "code",
   "execution_count": 39,
   "id": "61efc2d6-2e04-4d66-a42f-454f2b3e527f",
   "metadata": {},
   "outputs": [
    {
     "ename": "TypeError",
     "evalue": "'set' object is not subscriptable",
     "output_type": "error",
     "traceback": [
      "\u001b[1;31m---------------------------------------------------------------------------\u001b[0m",
      "\u001b[1;31mTypeError\u001b[0m                                 Traceback (most recent call last)",
      "Cell \u001b[1;32mIn[39], line 1\u001b[0m\n\u001b[1;32m----> 1\u001b[0m s[\u001b[38;5;241m6\u001b[39m]\n",
      "\u001b[1;31mTypeError\u001b[0m: 'set' object is not subscriptable"
     ]
    }
   ],
   "source": [
    "s[6]"
   ]
  },
  {
   "cell_type": "code",
   "execution_count": 41,
   "id": "05f6ed1b-b107-4889-8da2-0050c7adf112",
   "metadata": {},
   "outputs": [
    {
     "data": {
      "text/plain": [
       "[45, 67, 89, 90, 32]"
      ]
     },
     "execution_count": 41,
     "metadata": {},
     "output_type": "execute_result"
    }
   ],
   "source": [
    "y=(45,67,89,90,32)\n",
    "z=list(y)\n",
    "z"
   ]
  },
  {
   "cell_type": "code",
   "execution_count": 43,
   "id": "47b84868-238b-447d-a9e0-c1f10161d611",
   "metadata": {},
   "outputs": [
    {
     "data": {
      "text/plain": [
       "[45, 67, 89, 90, 32, 34]"
      ]
     },
     "execution_count": 43,
     "metadata": {},
     "output_type": "execute_result"
    }
   ],
   "source": [
    "z.append(34)\n",
    "z"
   ]
  },
  {
   "cell_type": "code",
   "execution_count": 45,
   "id": "131c06ce-38fa-4a30-bba4-0ba59175bd8a",
   "metadata": {},
   "outputs": [
    {
     "data": {
      "text/plain": [
       "list"
      ]
     },
     "execution_count": 45,
     "metadata": {},
     "output_type": "execute_result"
    }
   ],
   "source": [
    "type(z)"
   ]
  },
  {
   "cell_type": "code",
   "execution_count": null,
   "id": "3b41690e-13e8-4f69-9fd2-4202b563cf60",
   "metadata": {},
   "outputs": [],
   "source": []
  }
 ],
 "metadata": {
  "kernelspec": {
   "display_name": "Python [conda env:base] *",
   "language": "python",
   "name": "conda-base-py"
  },
  "language_info": {
   "codemirror_mode": {
    "name": "ipython",
    "version": 3
   },
   "file_extension": ".py",
   "mimetype": "text/x-python",
   "name": "python",
   "nbconvert_exporter": "python",
   "pygments_lexer": "ipython3",
   "version": "3.12.7"
  }
 },
 "nbformat": 4,
 "nbformat_minor": 5
}
