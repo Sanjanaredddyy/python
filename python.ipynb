{
  "nbformat": 4,
  "nbformat_minor": 0,
  "metadata": {
    "colab": {
      "private_outputs": true,
      "provenance": [],
      "authorship_tag": "ABX9TyPnUQZ2mfQo670p4sFMs8gB",
      "include_colab_link": true
    },
    "kernelspec": {
      "name": "python3",
      "display_name": "Python 3"
    },
    "language_info": {
      "name": "python"
    }
  },
  "cells": [
    {
      "cell_type": "markdown",
      "metadata": {
        "id": "view-in-github",
        "colab_type": "text"
      },
      "source": [
        "<a href=\"https://colab.research.google.com/github/Sanjanaredddyy/python/blob/main/python.ipynb\" target=\"_parent\"><img src=\"https://colab.research.google.com/assets/colab-badge.svg\" alt=\"Open In Colab\"/></a>"
      ]
    },
    {
      "cell_type": "code",
      "execution_count": null,
      "metadata": {
        "id": "6l9Lm2AHBvR3"
      },
      "outputs": [],
      "source": [
        "c= [343,626,7826,\"sanju\",3,5,4,6]\n",
        "print(c)"
      ]
    },
    {
      "cell_type": "code",
      "source": [
        "c[0]"
      ],
      "metadata": {
        "id": "SRa-1T5oCi0u"
      },
      "execution_count": null,
      "outputs": []
    },
    {
      "cell_type": "code",
      "source": [
        "c[1:2]"
      ],
      "metadata": {
        "id": "KqwlCrD8CzW8"
      },
      "execution_count": null,
      "outputs": []
    },
    {
      "cell_type": "code",
      "source": [
        "c[0:3]"
      ],
      "metadata": {
        "id": "aIySqhdOEW1W"
      },
      "execution_count": null,
      "outputs": []
    },
    {
      "cell_type": "code",
      "source": [
        "c[2:5:6]"
      ],
      "metadata": {
        "id": "jvF_O3cTG80q"
      },
      "execution_count": null,
      "outputs": []
    },
    {
      "cell_type": "code",
      "source": [
        "a = [7,\"python\",45,\"ladakh\",78,23,\"howdy\"]\n",
        "print(a)"
      ],
      "metadata": {
        "id": "Cy5PMWMlHSpz"
      },
      "execution_count": null,
      "outputs": []
    },
    {
      "cell_type": "code",
      "source": [
        "a[4]"
      ],
      "metadata": {
        "id": "Pts32HJwH6n8"
      },
      "execution_count": null,
      "outputs": []
    },
    {
      "cell_type": "code",
      "source": [
        "a[-2]"
      ],
      "metadata": {
        "id": "hiMaRywVID3I"
      },
      "execution_count": null,
      "outputs": []
    },
    {
      "cell_type": "code",
      "source": [
        "a[-6]"
      ],
      "metadata": {
        "id": "DQlmm6CkIYqi"
      },
      "execution_count": null,
      "outputs": []
    },
    {
      "cell_type": "code",
      "source": [
        "a[2:3:5]"
      ],
      "metadata": {
        "id": "9Z2AHcneIbMI"
      },
      "execution_count": null,
      "outputs": []
    },
    {
      "cell_type": "code",
      "source": [
        "a[-5:-3]"
      ],
      "metadata": {
        "id": "7Ls6yTuyIenZ"
      },
      "execution_count": null,
      "outputs": []
    },
    {
      "cell_type": "code",
      "source": [
        "len(a)"
      ],
      "metadata": {
        "id": "rKEiqfc3JwV8"
      },
      "execution_count": null,
      "outputs": []
    },
    {
      "cell_type": "code",
      "source": [
        "a.append(\"Pakistan\")\n",
        "a"
      ],
      "metadata": {
        "id": "IcpFb23WKRwD"
      },
      "execution_count": null,
      "outputs": []
    },
    {
      "cell_type": "code",
      "source": [
        "a.insert(2,\"sydney\")\n",
        "a"
      ],
      "metadata": {
        "id": "pJZkV5x2KlDC"
      },
      "execution_count": null,
      "outputs": []
    },
    {
      "cell_type": "code",
      "source": [
        "a.remove(\"Pakistan\")\n",
        "a"
      ],
      "metadata": {
        "id": "5YDehGfKLdiZ"
      },
      "execution_count": null,
      "outputs": []
    },
    {
      "cell_type": "code",
      "source": [
        "a.pop(5)\n",
        "a"
      ],
      "metadata": {
        "id": "eMZeLigjLlZD"
      },
      "execution_count": null,
      "outputs": []
    },
    {
      "cell_type": "code",
      "source": [
        "a.count(7)"
      ],
      "metadata": {
        "id": "oBkrtmoSLtTL"
      },
      "execution_count": null,
      "outputs": []
    },
    {
      "cell_type": "code",
      "source": [
        "s=[4,5,6,4,7,5,7,3,3,9,7,8,7,7,8]\n",
        "s"
      ],
      "metadata": {
        "id": "ct74mRHhM63u"
      },
      "execution_count": null,
      "outputs": []
    },
    {
      "cell_type": "code",
      "source": [
        "s.count(7)"
      ],
      "metadata": {
        "id": "frA0a_skNCBu"
      },
      "execution_count": null,
      "outputs": []
    },
    {
      "cell_type": "code",
      "source": [
        "s.count(5)"
      ],
      "metadata": {
        "id": "0S_dvibBNFBu"
      },
      "execution_count": null,
      "outputs": []
    },
    {
      "cell_type": "code",
      "source": [
        "a.clear()\n",
        "a"
      ],
      "metadata": {
        "id": "8MuJa4dZNIDB"
      },
      "execution_count": null,
      "outputs": []
    },
    {
      "cell_type": "code",
      "source": [
        "d=[2,3,5,6,7,'sanju','helloo',45,67,78]\n",
        "d"
      ],
      "metadata": {
        "id": "TdqaZKlyNwJE"
      },
      "execution_count": null,
      "outputs": []
    },
    {
      "cell_type": "code",
      "source": [
        "d.count(5)"
      ],
      "metadata": {
        "id": "GAJ27D2UOcjh"
      },
      "execution_count": null,
      "outputs": []
    },
    {
      "cell_type": "code",
      "source": [],
      "metadata": {
        "id": "odtAcbFtPPwb"
      },
      "execution_count": null,
      "outputs": []
    }
  ]
}